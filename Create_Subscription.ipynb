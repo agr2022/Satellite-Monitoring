{
 "cells": [
  {
   "cell_type": "code",
   "execution_count": null,
   "metadata": {},
   "outputs": [],
   "source": [
    "# Copy and paste all required information here for the listed variables, make sure to paste inside the quotation marks\n",
    "\n",
    "# Your API_KEY from My Settings tab in Planet Labs account\n",
    "API_KEY = '' \n",
    "\n",
    "# Your GCS project ID in which your bucket is located\n",
    "GCS_PROJECT_ID = '' \n",
    "\n",
    "# Your GCS bucket name that resides in the GCS project\n",
    "GCS_BUCKET_NAME = '' \n",
    "\n",
    "# The file name where you saved your GCS credentials, be sure to include .json\n",
    "GCS_CREDS_JSON = '' \n",
    "\n",
    "# The file name where you saved your AOI information, be sure to include .geojson\n",
    "GEOJSON_FILE = '' \n",
    "\n",
    "# The start and end date for monitoring format YYYY-MM-DD\n",
    "START_DATE = '' \n",
    "END_DATE = ''\n",
    "\n",
    "# Give the subscription a name\n",
    "SUB_NAME = ''"
   ]
  },
  {
   "cell_type": "code",
   "execution_count": null,
   "metadata": {
    "colab": {
     "base_uri": "https://localhost:8080/"
    },
    "id": "Mzs5K_1GZ8aH",
    "outputId": "6c616b3e-a5f0-49b1-cdbc-607c143135df"
   },
   "outputs": [],
   "source": [
    "# import required libraries\n",
    "\n",
    "import getpass\n",
    "import planet\n",
    "from planet import Auth\n",
    "\n",
    "import asyncio\n",
    "import os\n",
    "from planet import Session\n",
    "\n",
    "\n",
    "import json\n",
    "import base64\n",
    "import requests\n",
    "from requests.auth import HTTPBasicAuth\n",
    "\n",
    "import pathlib\n"
   ]
  },
  {
   "cell_type": "code",
   "execution_count": null,
   "metadata": {
    "id": "2XlyABHN4nPJ"
   },
   "outputs": [],
   "source": [
    "# base url for subscriptions\n",
    "BASE_URL = \"https://api.planet.com/subscriptions/v1\""
   ]
  },
  {
   "cell_type": "code",
   "execution_count": null,
   "metadata": {},
   "outputs": [],
   "source": [
    "# Confirm that your API key is valid\n",
    "\n",
    "# Set an authentication value\n",
    "auth = HTTPBasicAuth(API_KEY, '')\n",
    "\n",
    "# Do a GET request and the response\n",
    "response = requests.get(BASE_URL, auth=auth)\n",
    "# response 200 means its working\n",
    "print(response)\n",
    "\n",
    "# if you get a response other than 200 check your API_KEY"
   ]
  },
  {
   "cell_type": "code",
   "execution_count": null,
   "metadata": {
    "id": "D18t5JY95QB-"
   },
   "outputs": [],
   "source": [
    "# Load GCS service agent's JSON credentials as Base64\n",
    "with open(GCS_CREDS_JSON) as jsonfile:\n",
    "  data = json.load(jsonfile)\n",
    "  datastr = json.dumps(data)\n",
    "  msg_bytes = datastr.encode('ascii')\n",
    "  base64_bytes = base64.b64encode(msg_bytes)\n",
    "  decoded = base64_bytes.decode('ascii')\n",
    "  GCS_CREDS_B64 = decoded"
   ]
  },
  {
   "cell_type": "code",
   "execution_count": null,
   "metadata": {
    "id": "3JM80F1OZeCH"
   },
   "outputs": [],
   "source": [
    "# load aoi through files\n",
    "with open(GEOJSON_FILE) as f:\n",
    "  geojson_data = json.loads(f.read())"
   ]
  },
  {
   "cell_type": "code",
   "execution_count": null,
   "metadata": {},
   "outputs": [],
   "source": [
    "# putting start and end date in correct format\n",
    "START_DATE_FORMAT = START_DATE + 'T00:00:00Z'\n",
    "END_DATE_FORMAT = END_DATE + 'T00:00:00Z'"
   ]
  },
  {
   "cell_type": "code",
   "execution_count": null,
   "metadata": {
    "id": "FXJjgxUuaeeE"
   },
   "outputs": [],
   "source": [
    "# create filters\n",
    "\n",
    "# images that overlap with AOI\n",
    "geometry_filter = {\n",
    "    \"type\": \"GeometryFilter\",\n",
    "    \"field_name\": \"geometry\",\n",
    "    \"config\": geojson_data[\"features\"][0][\"geometry\"]\n",
    "}\n",
    "\n",
    "# get images acquired within a date range\n",
    "date_range_filter = {\n",
    "  \"type\": \"DateRangeFilter\",\n",
    "  \"field_name\": \"published\",\n",
    "  \"config\": {\n",
    "    \"gte\": START_DATE_FORMAT,\n",
    "    \"lte\": END_DATE_FORMAT\n",
    "  }\n",
    "}\n",
    "\n",
    "# only get images which have <=50% clouds\n",
    "cloud_cover_filter = {\n",
    "  \"type\": \"RangeFilter\",\n",
    "  \"field_name\": \"cloud_cover\",\n",
    "  \"config\": {\n",
    "    \"lte\": 0.5 \n",
    "  }\n",
    "}\n",
    "\n",
    "# combine filters\n",
    "combined_filter = {\n",
    "  \"type\": \"AndFilter\",\n",
    "  \"config\": [geometry_filter,  date_range_filter, cloud_cover_filter]\n",
    "}"
   ]
  },
  {
   "cell_type": "code",
   "execution_count": null,
   "metadata": {
    "id": "ofk1Wut0YeAG"
   },
   "outputs": [],
   "source": [
    "sub_request = {\n",
    "    # Name Block\n",
    "    \"name\": SUB_NAME,\n",
    "    # Source Block\n",
    "    \"source\": {\n",
    "        \"type\": \"catalog\",\n",
    "        \"parameters\": {\n",
    "            \"item_types\": [\"PSScene\"],\n",
    "            \"asset_types\": [\"ortho_analytic_4b_sr\", \"ortho_udm2\", \"ortho_analytic_4b_xml\"],\n",
    "            #There's no limit to the types of searches you can create with the filter functionality.\n",
    "            \"filter\": combined_filter\n",
    "        }\n",
    "    },\n",
    "\n",
    "    \"tools\": [\n",
    "        {\n",
    "            'type': 'harmonize',\n",
    "            'parameters': {\n",
    "                'target_sensor': 'Sentinel-2'\n",
    "            }\n",
    "        },\n",
    "        {\n",
    "          \"type\": \"clip\",\n",
    "          \"parameters\": {\n",
    "              \"aoi\": geojson_data[\"features\"][0][\"geometry\"]\n",
    "            }\n",
    "        }\n",
    "    ],\n",
    "\n",
    "    #Delivery\n",
    "    \"delivery\": {\n",
    "        \"type\": \"google_cloud_storage\",\n",
    "        \"parameters\": {\n",
    "            \"bucket\": GCS_BUCKET_NAME,\n",
    "            \"credentials\": GCS_CREDS_B64\n",
    "        }\n",
    "    }\n",
    "}"
   ]
  },
  {
   "cell_type": "code",
   "execution_count": null,
   "metadata": {},
   "outputs": [],
   "source": [
    "# send initial request, prints out information about the subscription\n",
    "\n",
    "sub_response = requests.post(BASE_URL, json=sub_request, auth=(API_KEY, ''))\n",
    "print('Order Status Code: ', sub_response.status_code)\n",
    "order_id = sub_response.json()['id']\n",
    "print('Order ID: ', sub_response.json()['id'])\n",
    "print('Full Order Info: ', sub_response.json())"
   ]
  },
  {
   "cell_type": "code",
   "execution_count": null,
   "metadata": {
    "colab": {
     "base_uri": "https://localhost:8080/"
    },
    "id": "izgtwiKS95ut",
    "outputId": "22680391-88a5-4366-adb6-758442f824e5"
   },
   "outputs": [],
   "source": [
    "# # url for current subscription, uncomment if you want to edit or cancel your subscription\n",
    "# sub_url = BASE_URL + '/' + order_id\n",
    "# print(sub_url)"
   ]
  },
  {
   "cell_type": "code",
   "execution_count": null,
   "metadata": {
    "colab": {
     "base_uri": "https://localhost:8080/"
    },
    "id": "Wac85sxF-TkY",
    "outputId": "6a413d09-ec5a-43ad-cc76-d7401c3161b9"
   },
   "outputs": [],
   "source": [
    "# # edit subscription\n",
    "# # edit any variables above then run this code to edit the subscription\n",
    "# # if you are chaning AOI just create a new subscription instead\n",
    "# sub_revised_response = requests.put(sub_url, json=sub_request, auth=(API_KEY, ''))\n",
    "# print('Order Status Code: ', sub_revised_response.status_code)\n",
    "# print('Full Order Info: ', sub_revised_response.json())"
   ]
  },
  {
   "cell_type": "code",
   "execution_count": null,
   "metadata": {
    "colab": {
     "base_uri": "https://localhost:8080/"
    },
    "id": "YYlaInPUAR_v",
    "outputId": "ee731eb1-677c-4e68-f6d5-29b374ba1da4"
   },
   "outputs": [],
   "source": [
    "# # cancel subscription\n",
    "# # run this to stop monitoring your AOI\n",
    "# cancel_url = BASE_URL + '/' + order_id + '/cancel'\n",
    "# sub_cancel_response = requests.post(cancel_url, auth=(API_KEY, ''))\n",
    "# print('Order status code: ', sub_cancel_response.status_code)\n"
   ]
  },
  {
   "cell_type": "code",
   "execution_count": null,
   "metadata": {
    "colab": {
     "base_uri": "https://localhost:8080/"
    },
    "id": "s-EOFXFoDCg-",
    "outputId": "406e2e81-acd2-4c84-f310-95df703270f5"
   },
   "outputs": [],
   "source": [
    "# # View running subscriptions on your Planet Labs Account\n",
    "# test_url = BASE_URL + '?status=running&status=completed'\n",
    "# sub_test_response = requests.get(test_url, auth=(API_KEY, ''))\n",
    "# print('Order status code: ', sub_test_response.status_code)\n",
    "# print('All Info: ', sub_test_response.json())"
   ]
  }
 ],
 "metadata": {
  "colab": {
   "provenance": []
  },
  "kernelspec": {
   "display_name": "Python 3 (ipykernel)",
   "language": "python",
   "name": "python3"
  },
  "language_info": {
   "codemirror_mode": {
    "name": "ipython",
    "version": 3
   },
   "file_extension": ".py",
   "mimetype": "text/x-python",
   "name": "python",
   "nbconvert_exporter": "python",
   "pygments_lexer": "ipython3",
   "version": "3.11.7"
  }
 },
 "nbformat": 4,
 "nbformat_minor": 4
}
