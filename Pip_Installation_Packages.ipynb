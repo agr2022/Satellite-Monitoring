{
 "cells": [
  {
   "cell_type": "code",
   "execution_count": null,
   "id": "1d0f2c84-9798-42dd-8705-ce81fac0f91d",
   "metadata": {},
   "outputs": [],
   "source": [
    "# run this file to pip install all required packages for other programs\n",
    "!pip install rasterio\n",
    "!pip install google-cloud-storage\n",
    "!pip install planet"
   ]
  }
 ],
 "metadata": {
  "kernelspec": {
   "display_name": "Python 3 (ipykernel)",
   "language": "python",
   "name": "python3"
  },
  "language_info": {
   "codemirror_mode": {
    "name": "ipython",
    "version": 3
   },
   "file_extension": ".py",
   "mimetype": "text/x-python",
   "name": "python",
   "nbconvert_exporter": "python",
   "pygments_lexer": "ipython3",
   "version": "3.11.7"
  }
 },
 "nbformat": 4,
 "nbformat_minor": 5
}
